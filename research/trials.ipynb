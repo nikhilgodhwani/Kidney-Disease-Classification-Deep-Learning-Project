{
 "cells": [
  {
   "cell_type": "code",
   "execution_count": 1,
   "metadata": {},
   "outputs": [],
   "source": [
    "import gdown"
   ]
  },
  {
   "cell_type": "code",
   "execution_count": 2,
   "metadata": {},
   "outputs": [],
   "source": [
    "url=\"https://drive.google.com/file/d/12uJKQ_aOEEYpen2XJie583nceD5Tg73J/view?usp=sharing\""
   ]
  },
  {
   "cell_type": "code",
   "execution_count": 5,
   "metadata": {},
   "outputs": [
    {
     "data": {
      "text/plain": [
       "'12uJKQ_aOEEYpen2XJie583nceD5Tg73J'"
      ]
     },
     "execution_count": 5,
     "metadata": {},
     "output_type": "execute_result"
    }
   ],
   "source": [
    "file_id = url.split(\"/\")[-2]\n",
    "file_id"
   ]
  },
  {
   "cell_type": "code",
   "execution_count": 6,
   "metadata": {},
   "outputs": [
    {
     "name": "stderr",
     "output_type": "stream",
     "text": [
      "Downloading...\n",
      "From (uriginal): https://drive.google.com/uc?/export=download&id=12uJKQ_aOEEYpen2XJie583nceD5Tg73J\n",
      "From (redirected): https://drive.google.com/uc?/export=download&id=12uJKQ_aOEEYpen2XJie583nceD5Tg73J&confirm=t&uuid=ca0d35f5-1349-4165-9ee2-0a41702487ac\n",
      "To: d:\\Study\\Kidney-Disease-Classification-Deep-Learning-Project\\research\\KIDNEY-CTScan-Normal-Tumor.rar\n",
      "100%|██████████| 52.6M/52.6M [00:12<00:00, 4.36MB/s]\n"
     ]
    },
    {
     "data": {
      "text/plain": [
       "'KIDNEY-CTScan-Normal-Tumor.rar'"
      ]
     },
     "execution_count": 6,
     "metadata": {},
     "output_type": "execute_result"
    }
   ],
   "source": [
    "prefix = 'https://drive.google.com/uc?/export=download&id='\n",
    "gdown.download(prefix+file_id, \"KIDNEY-CTScan-Normal-Tumor.rar\")"
   ]
  },
  {
   "cell_type": "code",
   "execution_count": null,
   "metadata": {},
   "outputs": [],
   "source": []
  }
 ],
 "metadata": {
  "kernelspec": {
   "display_name": "kidney",
   "language": "python",
   "name": "python3"
  },
  "language_info": {
   "codemirror_mode": {
    "name": "ipython",
    "version": 3
   },
   "file_extension": ".py",
   "mimetype": "text/x-python",
   "name": "python",
   "nbconvert_exporter": "python",
   "pygments_lexer": "ipython3",
   "version": "3.8.18"
  }
 },
 "nbformat": 4,
 "nbformat_minor": 2
}
